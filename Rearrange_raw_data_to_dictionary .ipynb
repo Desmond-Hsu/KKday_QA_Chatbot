{
 "cells": [
  {
   "cell_type": "code",
   "execution_count": 1,
   "metadata": {},
   "outputs": [],
   "source": [
    "import numpy as np\n",
    "import pandas as pd\n",
    "import math\n",
    "\n",
    "import json"
   ]
  },
  {
   "cell_type": "code",
   "execution_count": 2,
   "metadata": {},
   "outputs": [],
   "source": [
    "data = pd.read_csv('D:\\Desmond\\Intern\\kkday\\data\\kk_message.csv_20180101_20181231.csv')"
   ]
  },
  {
   "cell_type": "code",
   "execution_count": 4,
   "metadata": {},
   "outputs": [],
   "source": [
    "#取產品prod_oid\n",
    "temp_list = list(data[data.parent_msg_oid==0]['prod_oid'])\n",
    "prod_oid1 = [int(i) for i in temp_list if math.isnan(i)==False]\n",
    "\n",
    "prod_oid=[i for i in set(prod_oid1)]\n",
    "prod_oid.sort()"
   ]
  },
  {
   "cell_type": "markdown",
   "metadata": {},
   "source": [
    "### 組合\n"
   ]
  },
  {
   "cell_type": "code",
   "execution_count": null,
   "metadata": {},
   "outputs": [],
   "source": [
    "# use defaultdict\n",
    "from collections import defaultdict\n",
    "\n",
    "def transfer_into_dia_dict(df):\n",
    "    df=df.sort_values('create_date')\n",
    "    dia_dict = defaultdict(list)\n",
    "    count = 1\n",
    "    for i,j in df.iterrows():\n",
    "        text = j['msg_content']\n",
    "        if count % 2 ==1:\n",
    "            dia_dict['Q'].append(text)\n",
    "        else:\n",
    "            dia_dict['A'].append(text)\n",
    "        count += 1\n",
    "    return dia_dict"
   ]
  },
  {
   "cell_type": "code",
   "execution_count": null,
   "metadata": {},
   "outputs": [],
   "source": [
    "# normal dictionary\n",
    "def transfer_into_dia_dict2(df):\n",
    "    df=df.sort_values('create_date')\n",
    "    dia_dict = {}\n",
    "    q_ls=[]\n",
    "    a_ls=[]\n",
    "    count = 1\n",
    "    for i,j in df.iterrows():\n",
    "        text = j['msg_content']\n",
    "        if count % 2 ==1:\n",
    "            q_ls.append(text)\n",
    "        else:\n",
    "            a_ls.append(text)\n",
    "        \n",
    "        count += 1\n",
    "    dia_dict['Q']=q_ls\n",
    "    dia_dict['A']=a_ls\n",
    "    return dia_dict"
   ]
  },
  {
   "cell_type": "code",
   "execution_count": null,
   "metadata": {},
   "outputs": [],
   "source": [
    "def dialogue_function(prod_oid):\n",
    "    dialogue_data={}\n",
    "    \n",
    "    for j in prod_oid:\n",
    "        msgoid_dia_end=list(data[(data.prod_oid==j) & (data.parent_msg_oid==0)].msg_oid)\n",
    "        \n",
    "        dia_ls=[]\n",
    "        for i in msgoid_dia_end:\n",
    "            to_deal_df = data[data.parent_msg_oid==i]\n",
    "            dia_ls.append(transfer_into_dia_dict2(to_deal_df))\n",
    "    \n",
    "        dialogue_data[j]=dia_ls\n",
    "    return dialogue_data\n",
    "    "
   ]
  },
  {
   "cell_type": "code",
   "execution_count": null,
   "metadata": {},
   "outputs": [],
   "source": [
    "dia_dict = dialogue_function(prod_oid)\n",
    "dia_dict"
   ]
  },
  {
   "cell_type": "code",
   "execution_count": null,
   "metadata": {},
   "outputs": [],
   "source": [
    "dialogue_data"
   ]
  },
  {
   "cell_type": "markdown",
   "metadata": {},
   "source": [
    "### 以json檔儲存"
   ]
  },
  {
   "cell_type": "code",
   "execution_count": null,
   "metadata": {},
   "outputs": [],
   "source": [
    "json_str = json.dumps(dia_data, indent=2,ensure_ascii=False)\n",
    "print(json_str)"
   ]
  },
  {
   "cell_type": "code",
   "execution_count": null,
   "metadata": {},
   "outputs": [],
   "source": [
    "with open('data.json', 'w',encoding='utf-8') as f:\n",
    "    json.dump(dia_data, f,ensure_ascii=False)"
   ]
  },
  {
   "cell_type": "code",
   "execution_count": null,
   "metadata": {},
   "outputs": [],
   "source": []
  },
  {
   "cell_type": "code",
   "execution_count": null,
   "metadata": {},
   "outputs": [],
   "source": []
  },
  {
   "cell_type": "code",
   "execution_count": null,
   "metadata": {},
   "outputs": [],
   "source": []
  }
 ],
 "metadata": {
  "kernelspec": {
   "display_name": "Python 3",
   "language": "python",
   "name": "python3"
  },
  "language_info": {
   "codemirror_mode": {
    "name": "ipython",
    "version": 3
   },
   "file_extension": ".py",
   "mimetype": "text/x-python",
   "name": "python",
   "nbconvert_exporter": "python",
   "pygments_lexer": "ipython3",
   "version": "3.7.3"
  }
 },
 "nbformat": 4,
 "nbformat_minor": 2
}
